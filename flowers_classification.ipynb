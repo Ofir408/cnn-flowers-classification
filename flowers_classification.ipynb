{
  "cells": [
    {
      "cell_type": "markdown",
      "metadata": {
        "id": "view-in-github",
        "colab_type": "text"
      },
      "source": [
        "<a href=\"https://colab.research.google.com/github/Ofir408/cnn-flowers-classification/blob/main/flowers_classification.ipynb\" target=\"_parent\"><img src=\"https://colab.research.google.com/assets/colab-badge.svg\" alt=\"Open In Colab\"/></a>"
      ]
    },
    {
      "cell_type": "markdown",
      "metadata": {
        "id": "ZLWhnuaA6MLA"
      },
      "source": [
        "Ofir Ben Shoham"
      ]
    },
    {
      "cell_type": "markdown",
      "metadata": {
        "id": "7oQAJ3vt6PNj"
      },
      "source": [
        "## Setup"
      ]
    },
    {
      "cell_type": "code",
      "execution_count": null,
      "metadata": {
        "id": "WMfF26h36Ndu"
      },
      "outputs": [],
      "source": [
        "import pandas as pd\n",
        "import numpy as np\n",
        "import scipy.io\n",
        "import torchvision\n",
        "from torchvision import datasets, models, transforms\n",
        "import os\n",
        "from pathlib import Path\n",
        "import torch\n",
        "import torch.nn as nn\n",
        "import torch.optim as optim\n",
        "from torch.optim import lr_scheduler\n",
        "from torch.utils.data import DataLoader\n",
        "\n",
        "BASE_PATH = \"ex3/\"\n",
        "IMAGES_PATH = BASE_PATH + \"jpg/\"\n"
      ]
    },
    {
      "cell_type": "markdown",
      "metadata": {
        "id": "dO5D40UZ6W4J"
      },
      "source": [
        "## Load the Data"
      ]
    },
    {
      "cell_type": "code",
      "execution_count": null,
      "metadata": {
        "colab": {
          "base_uri": "https://localhost:8080/"
        },
        "id": "M5gav5jG6Zwu",
        "outputId": "fd1468e4-64da-48aa-b9f7-82e3ee33e46d"
      },
      "outputs": [
        {
          "output_type": "stream",
          "name": "stdout",
          "text": [
            "--2022-07-01 07:28:11--  https://www.robots.ox.ac.uk/~vgg/data/flowers/102/imagelabels.mat\n",
            "Resolving www.robots.ox.ac.uk (www.robots.ox.ac.uk)... 129.67.94.2\n",
            "Connecting to www.robots.ox.ac.uk (www.robots.ox.ac.uk)|129.67.94.2|:443... connected.\n",
            "HTTP request sent, awaiting response... 200 OK\n",
            "Length: 502\n",
            "Saving to: ‘imagelabels.mat’\n",
            "\n",
            "imagelabels.mat     100%[===================>]     502  --.-KB/s    in 0s      \n",
            "\n",
            "2022-07-01 07:28:12 (76.0 MB/s) - ‘imagelabels.mat’ saved [502/502]\n",
            "\n",
            "--2022-07-01 07:28:12--  https://www.robots.ox.ac.uk/~vgg/data/flowers/102/102flowers.tgz\n",
            "Resolving www.robots.ox.ac.uk (www.robots.ox.ac.uk)... 129.67.94.2\n",
            "Connecting to www.robots.ox.ac.uk (www.robots.ox.ac.uk)|129.67.94.2|:443... connected.\n",
            "HTTP request sent, awaiting response... 200 OK\n",
            "Length: 344862509 (329M) [application/x-gzip]\n",
            "Saving to: ‘102flowers.tgz’\n",
            "\n",
            "102flowers.tgz      100%[===================>] 328.89M  13.8MB/s    in 26s     \n",
            "\n",
            "2022-07-01 07:28:39 (12.7 MB/s) - ‘102flowers.tgz’ saved [344862509/344862509]\n",
            "\n"
          ]
        }
      ],
      "source": [
        "!wget https://www.robots.ox.ac.uk/~vgg/data/flowers/102/imagelabels.mat\n",
        "!wget https://www.robots.ox.ac.uk/~vgg/data/flowers/102/102flowers.tgz\n",
        "\n",
        "mat1 = scipy.io.loadmat('imagelabels.mat')\n",
        "\n",
        "labels = mat1['labels'][0]\n",
        "for folder_name in [\"train\", \"validation\", \"test\"]:\n",
        "  os.makedirs(BASE_PATH + folder_name, exist_ok=True)\n"
      ]
    },
    {
      "cell_type": "code",
      "execution_count": null,
      "metadata": {
        "id": "JYxgdV4jPI3W"
      },
      "outputs": [],
      "source": [
        "!tar -xzf 102flowers.tgz -C \"/content/ex3/\"\n"
      ]
    },
    {
      "cell_type": "code",
      "execution_count": null,
      "metadata": {
        "colab": {
          "base_uri": "https://localhost:8080/"
        },
        "id": "jk8t5X36XWwK",
        "outputId": "79857f91-d697-4a9b-f625-311abf03b70c"
      },
      "outputs": [
        {
          "output_type": "stream",
          "name": "stdout",
          "text": [
            "8189\n",
            "8189\n",
            "<class 'numpy.ndarray'>\n"
          ]
        }
      ],
      "source": [
        "print(len(os.listdir(IMAGES_PATH)))\n",
        "print(len(labels))\n",
        "print(type(labels))"
      ]
    },
    {
      "cell_type": "code",
      "execution_count": null,
      "metadata": {
        "id": "ajq4WZEsbsJE"
      },
      "outputs": [],
      "source": [
        "def get_img_tag(image_path):\n",
        "  image_name = Path(image_path).stem.replace('image_', '')\n",
        "  image_id = int(image_name)\n",
        "  label = labels[image_id - 1]\n",
        "  return label\n"
      ]
    },
    {
      "cell_type": "markdown",
      "metadata": {
        "id": "PEGB4VHHeQC7"
      },
      "source": [
        "### Split the data to train, test, validation folders"
      ]
    },
    {
      "cell_type": "code",
      "execution_count": null,
      "metadata": {
        "id": "LqDnzfKseVuj"
      },
      "outputs": [],
      "source": [
        "from sklearn.model_selection import train_test_split\n",
        "\n",
        "X_temp, X_test = train_test_split(os.listdir(IMAGES_PATH), test_size=0.25, stratify=labels)\n",
        "X_train, X_validation = train_test_split(X_temp, test_size=0.33333333334) # todo: consider to add stratify if needed.\n",
        "del X_temp\n",
        "\n",
        "Y_test = [get_img_tag(img_path) for img_path in X_test]\n",
        "Y_train = [get_img_tag(img_path) for img_path in X_train]\n",
        "Y_validation = [get_img_tag(img_path) for img_path in X_validation]"
      ]
    },
    {
      "cell_type": "code",
      "execution_count": null,
      "metadata": {
        "colab": {
          "base_uri": "https://localhost:8080/"
        },
        "id": "FcExJHsGjBCo",
        "outputId": "43bca108-4491-44af-8e71-b67bfb64b6c2"
      },
      "outputs": [
        {
          "output_type": "execute_result",
          "data": {
            "text/plain": [
              "(1, 102)"
            ]
          },
          "metadata": {},
          "execution_count": 7
        }
      ],
      "source": [
        "labels.min(), labels.max()"
      ]
    },
    {
      "cell_type": "code",
      "execution_count": null,
      "metadata": {
        "id": "7qcQ-OhEeYN0"
      },
      "outputs": [],
      "source": [
        "import shutil\n",
        "\n",
        "def create_tag_folders(min_label, max_label):\n",
        "  print('creating folders for each label...')\n",
        "  for folder_type in [\"train\", \"validation\", \"test\"]:\n",
        "    for label in range(min_label, max_label + 1):\n",
        "      new_folder = f\"{BASE_PATH}{folder_type}/{str(label)}\"\n",
        "      os.makedirs(new_folder, exist_ok=True)\n",
        "  print('Done')\n",
        "\n",
        "def write_tags_to_folders(images, labels, folder_type):\n",
        "  print(f'start to copy images, folder_type={folder_type}')\n",
        "  for image_name, label in zip(images, labels):\n",
        "    current_image_path = f\"{IMAGES_PATH}{image_name}\"\n",
        "    image_full_path = f\"{BASE_PATH}{folder_type}/{str(label)}/{image_name}\"\n",
        "    #print(f\"copy file from current={current_image_path}, new_path={image_full_path}\")\n",
        "    shutil.copyfile(src=current_image_path, dst=image_full_path)\n",
        "  print('Done to write images to the folders of the tags')\n"
      ]
    },
    {
      "cell_type": "code",
      "execution_count": null,
      "metadata": {
        "colab": {
          "base_uri": "https://localhost:8080/"
        },
        "id": "Mv_mzCc5kWXu",
        "outputId": "a263995b-f4b8-4a1b-ce4a-ebe5fb77450f"
      },
      "outputs": [
        {
          "output_type": "stream",
          "name": "stdout",
          "text": [
            "creating folders for each label...\n",
            "Done\n",
            "start to copy images, folder_type=train\n",
            "Done to write images to the folders of the tags\n",
            "start to copy images, folder_type=validation\n",
            "Done to write images to the folders of the tags\n",
            "start to copy images, folder_type=test\n",
            "Done to write images to the folders of the tags\n"
          ]
        }
      ],
      "source": [
        "create_tag_folders(min_label=labels.min(), max_label=labels.max())\n",
        "write_tags_to_folders(X_train, Y_train, folder_type=\"train\")\n",
        "write_tags_to_folders(X_validation, Y_validation, folder_type=\"validation\")\n",
        "write_tags_to_folders(X_test, Y_test, folder_type=\"test\")"
      ]
    },
    {
      "cell_type": "markdown",
      "metadata": {
        "id": "0J7O-pxnDsk9"
      },
      "source": [
        "### Preprocessing"
      ]
    },
    {
      "cell_type": "code",
      "execution_count": null,
      "metadata": {
        "id": "JhWmLw31FAyJ"
      },
      "outputs": [],
      "source": [
        "transformations = transforms.Compose([\n",
        "transforms.Resize(256),\n",
        "transforms.CenterCrop(224),\n",
        "transforms.ToTensor(),\n",
        "transforms.Normalize(mean=[0.485, 0.456, 0.406], std=[0.229, 0.224, 0.225])\n",
        "])\n"
      ]
    },
    {
      "cell_type": "code",
      "execution_count": null,
      "metadata": {
        "id": "Pqga0iZ_BWXj"
      },
      "outputs": [],
      "source": [
        "train_image_folder = torchvision.datasets.ImageFolder(f'{BASE_PATH}train', transform=transformations)\n",
        "validation_image_folder = torchvision.datasets.ImageFolder(f'{BASE_PATH}validation', transform=transformations)\n",
        "test_image_folder = torchvision.datasets.ImageFolder(f'{BASE_PATH}test', transform=transformations)\n"
      ]
    },
    {
      "cell_type": "code",
      "execution_count": null,
      "metadata": {
        "colab": {
          "base_uri": "https://localhost:8080/"
        },
        "id": "fON4gCtcC5jS",
        "outputId": "1a6fe921-5358-4ca5-e0fc-5d29bfee2ae0"
      },
      "outputs": [
        {
          "output_type": "stream",
          "name": "stdout",
          "text": [
            "size of train set is: Dataset ImageFolder\n",
            "    Number of datapoints: 4093\n",
            "    Root location: ex3/train\n",
            "    StandardTransform\n",
            "Transform: Compose(\n",
            "               Resize(size=256, interpolation=bilinear, max_size=None, antialias=None)\n",
            "               CenterCrop(size=(224, 224))\n",
            "               ToTensor()\n",
            "               Normalize(mean=[0.485, 0.456, 0.406], std=[0.229, 0.224, 0.225])\n",
            "           )\n",
            "size of validation set is: Dataset ImageFolder\n",
            "    Number of datapoints: 2048\n",
            "    Root location: ex3/validation\n",
            "    StandardTransform\n",
            "Transform: Compose(\n",
            "               Resize(size=256, interpolation=bilinear, max_size=None, antialias=None)\n",
            "               CenterCrop(size=(224, 224))\n",
            "               ToTensor()\n",
            "               Normalize(mean=[0.485, 0.456, 0.406], std=[0.229, 0.224, 0.225])\n",
            "           )\n",
            "size of test set is: Dataset ImageFolder\n",
            "    Number of datapoints: 2048\n",
            "    Root location: ex3/test\n",
            "    StandardTransform\n",
            "Transform: Compose(\n",
            "               Resize(size=256, interpolation=bilinear, max_size=None, antialias=None)\n",
            "               CenterCrop(size=(224, 224))\n",
            "               ToTensor()\n",
            "               Normalize(mean=[0.485, 0.456, 0.406], std=[0.229, 0.224, 0.225])\n",
            "           )\n"
          ]
        }
      ],
      "source": [
        "print(f'size of train set is: {train_image_folder}')\n",
        "print(f'size of validation set is: {validation_image_folder}')\n",
        "print(f'size of test set is: {test_image_folder}')"
      ]
    },
    {
      "cell_type": "markdown",
      "metadata": {
        "id": "dW4_-v_ZG37T"
      },
      "source": [
        "### Model"
      ]
    },
    {
      "cell_type": "code",
      "execution_count": null,
      "metadata": {
        "colab": {
          "base_uri": "https://localhost:8080/"
        },
        "id": "iLShncx8Hsjy",
        "outputId": "a4f37ea4-9d22-4616-acf0-d6f051891440"
      },
      "outputs": [
        {
          "output_type": "stream",
          "name": "stdout",
          "text": [
            "device=cuda:0\n"
          ]
        }
      ],
      "source": [
        "device = torch.device(\"cuda:0\" if torch.cuda.is_available() else \"cpu\")\n",
        "print(f'device={device}')"
      ]
    },
    {
      "cell_type": "code",
      "execution_count": null,
      "metadata": {
        "id": "sjaD_-tTG--m"
      },
      "outputs": [],
      "source": [
        "# test_data_loader & validation_data_loader only for accuracy calculation, not for training of course. \n",
        "\n",
        "def train(model, train_data_loader, validation_data_loader, test_data_loader, criterion, optimizer, scheduler=None, num_epochs=10):\n",
        "  epoch_to_acc_list = [] # list of tuples (train_accuracy, validation_accuracy, test_accuracy)\n",
        "  epoch_to_loss_list = [] # list of tuples (train_loss, validation_loss, test_loss)\n",
        "  for epoch in range(num_epochs):\n",
        "      model.train()\n",
        "      print(f'Epoch {epoch}/{num_epochs - 1}')\n",
        "      total_loss, total_corrects = 0.0, 0\n",
        "      for inputs, labels in train_data_loader:\n",
        "          inputs = inputs.to(device)\n",
        "          labels = labels.to(device)\n",
        "          optimizer.zero_grad()\n",
        "          outputs = model(inputs)\n",
        "          _, preds = torch.max(outputs, 1)\n",
        "          loss = criterion(outputs, labels)\n",
        "          loss.backward()\n",
        "          optimizer.step()\n",
        "          total_loss += loss.item() * inputs.size(0)\n",
        "          total_corrects += torch.sum(preds == labels.data)\n",
        "          \n",
        "      #scheduler.step()\n",
        "      epoch_accuracy = total_corrects.double().item() / len(train_data_loader.dataset)\n",
        "      epoch_loss = total_loss / len(train_data_loader.dataset)\n",
        "      validation_acc, validation_loss = calc_accuracy_and_loss(model, criterion, validation_data_loader)\n",
        "      print(f'validation accuracy={validation_acc:.4f}')\n",
        "      test_acc, test_loss = calc_accuracy_and_loss(model, criterion, test_data_loader)\n",
        "      epoch_to_acc_list.append((epoch_accuracy, validation_acc, test_acc))\n",
        "      epoch_to_loss_list.append((epoch_loss, validation_loss, test_loss))\n",
        "      print(f'Loss: {epoch_loss:.4f} Acc: {epoch_accuracy:.4f}, Epoch {epoch}/{num_epochs - 1}')\n",
        "  return model, epoch_to_acc_list, epoch_to_loss_list"
      ]
    },
    {
      "cell_type": "code",
      "execution_count": null,
      "metadata": {
        "id": "H8oTB9xWsE9R"
      },
      "outputs": [],
      "source": [
        "def calc_accuracy_and_loss(model, criterion, data_loader):\n",
        "  corrects = 0\n",
        "  total_loss = 0.0\n",
        "  model.eval()\n",
        "  with torch.no_grad():\n",
        "    for inputs, labels in data_loader:\n",
        "        inputs = inputs.to(device)\n",
        "        labels = labels.to(device)\n",
        "        outputs = model(inputs)\n",
        "        _, preds = torch.max(outputs, 1)\n",
        "        corrects += torch.sum(preds == labels.data)\n",
        "        loss = criterion(outputs, labels)\n",
        "        loss_val = loss.item() * inputs.size(0)\n",
        "        total_loss += loss_val\n",
        "        \n",
        "  final_acc = corrects.double().item() / len(data_loader.dataset)\n",
        "  final_loss = total_loss / len(data_loader.dataset)\n",
        "  return final_acc, final_loss"
      ]
    },
    {
      "cell_type": "code",
      "execution_count": null,
      "metadata": {
        "id": "G-zichB9H5Y1",
        "colab": {
          "base_uri": "https://localhost:8080/",
          "height": 116,
          "referenced_widgets": [
            "b5008093ec174a2598ad99b259f0eab3",
            "1d8e3bab35c340a6af2478f1b464f4bd",
            "9b4a6e3c938143c8b37db57fc519a06f",
            "4e3733c69e974b37af4cab1e08105365",
            "22d739af7d604d64813f85ffe876f5b9",
            "ce5211a7afed4cb688a6a19a344a1c5b",
            "abb136cb61b0460696bd18c55d125b9a",
            "cfe38b34bc7f4b858823a628ad7bbcf3",
            "f79b27eb041f4159b2572cd713b4fbce",
            "cc0af30ef9f34f798edfc347e24d5771",
            "3247aff7edaa490683cef2c4cf19ee69",
            "c69d6cb10f814e5fa3806a65635ba723",
            "767defda3b304122a510f6405e92311d",
            "4f8cf4360d7b4806ba8f43686dae0ddf",
            "8fb394d6aaf9407fab3c8a5777bcd782",
            "4edb7d51d48a4826834af9cd26af5af0",
            "f632b9a4e9124d46b804629ccf1163e1",
            "9ea23d96a8a9493d8d2814f460397292",
            "154f3889cc694300a659d7406310f089",
            "49e3517650e74161aab78d1870fbc08f",
            "57c048ddb4144d8999ae3166b664f7bf",
            "eea92adf89d24d5aae1ee00bc64ec280"
          ]
        },
        "outputId": "a1de8575-78e7-4d2b-b5a4-e93573afdccb"
      },
      "outputs": [
        {
          "output_type": "stream",
          "name": "stderr",
          "text": [
            "Downloading: \"https://download.pytorch.org/models/resnet152-394f9c45.pth\" to /root/.cache/torch/hub/checkpoints/resnet152-394f9c45.pth\n"
          ]
        },
        {
          "output_type": "display_data",
          "data": {
            "text/plain": [
              "  0%|          | 0.00/230M [00:00<?, ?B/s]"
            ],
            "application/vnd.jupyter.widget-view+json": {
              "version_major": 2,
              "version_minor": 0,
              "model_id": "b5008093ec174a2598ad99b259f0eab3"
            }
          },
          "metadata": {}
        },
        {
          "output_type": "stream",
          "name": "stderr",
          "text": [
            "Downloading: \"https://download.pytorch.org/models/convnext_large-ea097f82.pth\" to /root/.cache/torch/hub/checkpoints/convnext_large-ea097f82.pth\n"
          ]
        },
        {
          "output_type": "display_data",
          "data": {
            "text/plain": [
              "  0%|          | 0.00/755M [00:00<?, ?B/s]"
            ],
            "application/vnd.jupyter.widget-view+json": {
              "version_major": 2,
              "version_minor": 0,
              "model_id": "c69d6cb10f814e5fa3806a65635ba723"
            }
          },
          "metadata": {}
        }
      ],
      "source": [
        "resnet_model = models.resnet152(pretrained=True)\n",
        "model2 = models.convnext_large(pretrained=True)\n",
        "\n",
        "#model2 = models.resnet50(pretrained=True)\n",
        "\n",
        "#scheduler = lr_scheduler.StepLR(optimizer, step_size=7, gamma=0.1)"
      ]
    },
    {
      "cell_type": "code",
      "execution_count": null,
      "metadata": {
        "id": "j12wINaso0U7"
      },
      "outputs": [],
      "source": [
        "resnet_model"
      ]
    },
    {
      "cell_type": "code",
      "execution_count": null,
      "metadata": {
        "id": "ABAodBzpmqBh"
      },
      "outputs": [],
      "source": [
        "model2"
      ]
    },
    {
      "cell_type": "markdown",
      "metadata": {
        "id": "fEPdJkbIH6t-"
      },
      "source": [
        "#### Fine Tuning to res-net"
      ]
    },
    {
      "cell_type": "code",
      "execution_count": null,
      "metadata": {
        "colab": {
          "base_uri": "https://localhost:8080/"
        },
        "id": "8DkKGJ93iPy2",
        "outputId": "fed44304-b2c8-4555-9e1e-c5c88d3dd0ca"
      },
      "outputs": [
        {
          "output_type": "stream",
          "name": "stdout",
          "text": [
            "freeze params of model=ResNet\n",
            "freeze params of model=ConvNeXt\n"
          ]
        }
      ],
      "source": [
        "for m in [resnet_model, model2]:\n",
        "  print(f'freeze params of model={m.__class__.__name__}')\n",
        "  for params in m.parameters():\n",
        "    params.requires_grad = False\n",
        "  _ = m.eval()"
      ]
    },
    {
      "cell_type": "code",
      "execution_count": null,
      "metadata": {
        "colab": {
          "base_uri": "https://localhost:8080/"
        },
        "id": "KlSq-BM_K2nw",
        "outputId": "e0b43159-04e0-453d-86b9-25f7454be170"
      },
      "outputs": [
        {
          "output_type": "execute_result",
          "data": {
            "text/plain": [
              "Sequential(\n",
              "  (0): LayerNorm2d((1536,), eps=1e-06, elementwise_affine=True)\n",
              "  (1): Flatten(start_dim=1, end_dim=-1)\n",
              "  (2): Linear(in_features=1536, out_features=256, bias=True)\n",
              "  (3): ReLU()\n",
              "  (4): Linear(in_features=256, out_features=102, bias=True)\n",
              "  (5): LogSoftmax(dim=1)\n",
              ")"
            ]
          },
          "metadata": {},
          "execution_count": 20
        }
      ],
      "source": [
        "from collections import OrderedDict\n",
        "\n",
        "resnet_model.fc = nn.Sequential(OrderedDict([\n",
        "                      ('linear1', nn.Linear(resnet_model.fc.in_features, 256)),\n",
        "                      ('relu_activation', nn.ReLU()),\n",
        "                      ('linear2', nn.Linear(256, 102)),\n",
        "                      ('last_layer', nn.LogSoftmax(dim=1))\n",
        "                      ]))\n",
        "\n",
        "del model2.classifier[-1]\n",
        "model2.classifier.append(nn.Linear(1536, 256))\n",
        "model2.classifier.append(nn.ReLU())\n",
        "model2.classifier.append(nn.Linear(256, 102))\n",
        "model2.classifier.append(nn.LogSoftmax(dim=1))\n",
        "\n",
        "#model2.classifier.append(nn.ReLU())\n",
        "#model2.classifier.append(nn.Linear(256, 102))\n",
        "#model2.classifier.append(nn.LogSoftmax(dim=1))"
      ]
    },
    {
      "cell_type": "code",
      "execution_count": null,
      "metadata": {
        "colab": {
          "base_uri": "https://localhost:8080/"
        },
        "id": "YlNzjkEPK5HG",
        "outputId": "6729946b-c1f1-489f-8f3d-b42e8c30c4b5"
      },
      "outputs": [
        {
          "output_type": "stream",
          "name": "stdout",
          "text": [
            "Epoch 0/8\n",
            "validation accuracy=0.6089\n",
            "Loss: 3.4116 Acc: 0.3020, Epoch 0/8\n",
            "Epoch 1/8\n",
            "validation accuracy=0.7759\n",
            "Loss: 1.4114 Acc: 0.7190, Epoch 1/8\n",
            "Epoch 2/8\n",
            "validation accuracy=0.8320\n",
            "Loss: 0.7177 Acc: 0.8502, Epoch 2/8\n",
            "Epoch 3/8\n",
            "validation accuracy=0.8667\n",
            "Loss: 0.4527 Acc: 0.9054, Epoch 3/8\n",
            "Epoch 4/8\n",
            "validation accuracy=0.8765\n",
            "Loss: 0.3473 Acc: 0.9267, Epoch 4/8\n",
            "Epoch 5/8\n",
            "validation accuracy=0.8911\n",
            "Loss: 0.2518 Acc: 0.9487, Epoch 5/8\n",
            "Epoch 6/8\n",
            "validation accuracy=0.9009\n",
            "Loss: 0.2014 Acc: 0.9599, Epoch 6/8\n",
            "Epoch 7/8\n",
            "validation accuracy=0.8926\n",
            "Loss: 0.1533 Acc: 0.9734, Epoch 7/8\n",
            "Epoch 8/8\n",
            "validation accuracy=0.9043\n",
            "Loss: 0.1305 Acc: 0.9761, Epoch 8/8\n"
          ]
        }
      ],
      "source": [
        "trained_model, epoch_to_acc_list, epoch_to_loss_list = train(model= resnet_model.to(device), train_data_loader=DataLoader(train_image_folder, batch_size=64, shuffle=True),\n",
        "                      validation_data_loader=DataLoader(validation_image_folder, batch_size=256, shuffle=False), # only for accuracy calculation, not for training of course. \n",
        "                      test_data_loader=DataLoader(test_image_folder, batch_size=256, shuffle=False), # only for accuracy calculation, not for training of course. \n",
        "                      criterion=nn.NLLLoss(), optimizer=optim.Adam(resnet_model.parameters(), lr = 0.001), num_epochs=9\n",
        ")"
      ]
    },
    {
      "cell_type": "code",
      "source": [
        "epoch_to_acc_list, epoch_to_loss_list\n"
      ],
      "metadata": {
        "id": "cr3ivQQarkca",
        "colab": {
          "base_uri": "https://localhost:8080/"
        },
        "outputId": "7ba6a92b-8d4b-4da4-c398-482f56c0929e"
      },
      "execution_count": null,
      "outputs": [
        {
          "output_type": "execute_result",
          "data": {
            "text/plain": [
              "([(0.3019789885169802, 0.60888671875, 0.58349609375),\n",
              "  (0.7190324945028097, 0.77587890625, 0.78076171875),\n",
              "  (0.8502321035914977, 0.83203125, 0.83154296875),\n",
              "  (0.9054483264109455, 0.86669921875, 0.86767578125),\n",
              "  (0.926704129000733, 0.87646484375, 0.88134765625),\n",
              "  (0.9486928903005131, 0.89111328125, 0.89453125),\n",
              "  (0.9599315905204007, 0.90087890625, 0.90283203125),\n",
              "  (0.9733691668702663, 0.892578125, 0.89794921875),\n",
              "  (0.9760566821402394, 0.904296875, 0.90966796875)],\n",
              " [(3.4116247211142214, 2.080835744738579, 2.1090453565120697),\n",
              "  (1.4113540969499596, 1.029984824359417, 1.0260654240846634),\n",
              "  (0.7177301049523734, 0.7095211073756218, 0.6878028139472008),\n",
              "  (0.45266504157239, 0.5602541826665401, 0.5509329177439213),\n",
              "  (0.347252109014053, 0.47757613286376, 0.4686024896800518),\n",
              "  (0.2517849047646207, 0.40592142939567566, 0.4027499370276928),\n",
              "  (0.20143045735860143, 0.37438215501606464, 0.36293088644742966),\n",
              "  (0.15334310858983036, 0.37056171149015427, 0.37412652373313904),\n",
              "  (0.1305073599469653, 0.34006353467702866, 0.32114467583596706)])"
            ]
          },
          "metadata": {},
          "execution_count": 22
        }
      ]
    },
    {
      "cell_type": "code",
      "execution_count": null,
      "metadata": {
        "colab": {
          "base_uri": "https://localhost:8080/"
        },
        "id": "wIrMEA4nl0RW",
        "outputId": "d3a87e42-1d23-4757-c808-d14682f18388"
      },
      "outputs": [
        {
          "output_type": "stream",
          "name": "stdout",
          "text": [
            "training trasfer learning for 102-flowers classification\n",
            "Epoch 0/8\n",
            "validation accuracy=0.6157\n",
            "Loss: 3.3503 Acc: 0.3157, Epoch 0/8\n",
            "Epoch 1/8\n",
            "validation accuracy=0.8145\n",
            "Loss: 1.2981 Acc: 0.7405, Epoch 1/8\n",
            "Epoch 2/8\n",
            "validation accuracy=0.8765\n",
            "Loss: 0.6709 Acc: 0.8607, Epoch 2/8\n",
            "Epoch 3/8\n",
            "validation accuracy=0.9189\n",
            "Loss: 0.4275 Acc: 0.9196, Epoch 3/8\n",
            "Epoch 4/8\n",
            "validation accuracy=0.9243\n",
            "Loss: 0.2937 Acc: 0.9458, Epoch 4/8\n",
            "Epoch 5/8\n",
            "validation accuracy=0.9375\n",
            "Loss: 0.2186 Acc: 0.9594, Epoch 5/8\n",
            "Epoch 6/8\n",
            "validation accuracy=0.9438\n",
            "Loss: 0.1753 Acc: 0.9677, Epoch 6/8\n",
            "Epoch 7/8\n",
            "validation accuracy=0.9487\n",
            "Loss: 0.1359 Acc: 0.9809, Epoch 7/8\n",
            "Epoch 8/8\n",
            "validation accuracy=0.9463\n",
            "Loss: 0.1052 Acc: 0.9853, Epoch 8/8\n",
            "Done\n"
          ]
        }
      ],
      "source": [
        "print('training trasfer learning for 102-flowers classification')\n",
        "trained_model2, epoch_to_acc_list2, epoch_to_loss_list2 = train(model= model2.to(device), train_data_loader=DataLoader(train_image_folder, batch_size=64, shuffle=True),\n",
        "                      validation_data_loader=DataLoader(validation_image_folder, batch_size=256, shuffle=False), # only for accuracy calculation, not for training of course. \n",
        "                      test_data_loader=DataLoader(test_image_folder, batch_size=256, shuffle=False), # only for accuracy calculation, not for training of course. \n",
        "                      criterion=nn.NLLLoss(), optimizer=optim.Adam(model2.parameters(), lr = 0.001), num_epochs=9\n",
        ")\n",
        "print('Done')"
      ]
    },
    {
      "cell_type": "markdown",
      "source": [
        "### Accuracy graph and the Cross-Entropy graph "
      ],
      "metadata": {
        "id": "ertFYqL0pL4z"
      }
    },
    {
      "cell_type": "code",
      "source": [
        "import seaborn as sns\n",
        "from matplotlib import pyplot as plt\n",
        "\n",
        "def plot_epoch_accuracy_graph(epoch_to_measure_list, title, measure_name_label):\n",
        "  epochs = [x + 1 for x in range(0, len(epoch_to_measure_list))]\n",
        "  train_measure_list, val_measure_list, test_measure_list = [], [], []\n",
        "  for x in epoch_to_measure_list:\n",
        "      train_measure, val_measure, test_measure = x\n",
        "      train_measure_list.append(train_measure)\n",
        "      val_measure_list.append(val_measure)\n",
        "      test_measure_list.append(test_measure)\n",
        "  epoch_acc_df = pd.DataFrame({\n",
        "      'epochs': epochs,\n",
        "      'train': train_measure_list,\n",
        "      'validation': val_measure_list,\n",
        "      'test': test_measure_list\n",
        "  })\n",
        "\n",
        "  plt.figure(figsize=(10, 8))\n",
        "  plt.title(title)\n",
        "  plt.xlabel('epoch', fontsize=18)\n",
        "  plt.ylabel(measure_name_label, fontsize=16)\n",
        "  sns.lineplot(data=epoch_acc_df, x='epochs', y='train', color=\"red\", label='train')\n",
        "  sns.lineplot(data=epoch_acc_df, x='epochs', y='validation', color=\"blue\", label='validation')\n",
        "  sns.lineplot(data=epoch_acc_df, x='epochs', y='test', color=\"green\", label='test')\n",
        "  "
      ],
      "metadata": {
        "id": "MLUsMuRYpY96"
      },
      "execution_count": null,
      "outputs": []
    },
    {
      "cell_type": "code",
      "source": [
        "plot_epoch_accuracy_graph(epoch_to_measure_list=epoch_to_acc_list, title='ResNet fine-tuned model, epoch to accuracy', measure_name_label='accuracy')"
      ],
      "metadata": {
        "colab": {
          "base_uri": "https://localhost:8080/",
          "height": 521
        },
        "id": "tI4gJeTnO5KT",
        "outputId": "cca452a2-49c1-4c93-80f2-6ae3f79de3a4"
      },
      "execution_count": null,
      "outputs": [
        {
          "output_type": "display_data",
          "data": {
            "text/plain": [
              "<Figure size 720x576 with 1 Axes>"
            ],
            "image/png": "[encoded data removed]"
          },
          "metadata": {
            "needs_background": "light"
          }
        }
      ]
    },
    {
      "cell_type": "code",
      "source": [
        "plot_epoch_accuracy_graph(epoch_to_measure_list=epoch_to_loss_list, title='ResNet fine-tuned model, epoch to loss', measure_name_label='loss')"
      ],
      "metadata": {
        "colab": {
          "base_uri": "https://localhost:8080/",
          "height": 521
        },
        "id": "h2dq-rZUPldS",
        "outputId": "94aef05a-cedc-44f7-dafe-6533a662041e"
      },
      "execution_count": null,
      "outputs": [
        {
          "output_type": "display_data",
          "data": {
            "text/plain": [
              "<Figure size 720x576 with 1 Axes>"
            ],
            "image/png": "[encoded data removed]"
          },
          "metadata": {
            "needs_background": "light"
          }
        }
      ]
    },
    {
      "cell_type": "code",
      "source": [
        "plot_epoch_accuracy_graph(epoch_to_measure_list=epoch_to_acc_list2, title='ConvNeXt fine-tuned model, epoch to accuracy', measure_name_label='accuracy')"
      ],
      "metadata": {
        "id": "du0RleeQQ0PD",
        "colab": {
          "base_uri": "https://localhost:8080/",
          "height": 521
        },
        "outputId": "3c61c60a-ea30-4e5d-dba1-486800b31236"
      },
      "execution_count": null,
      "outputs": [
        {
          "output_type": "display_data",
          "data": {
            "text/plain": [
              "<Figure size 720x576 with 1 Axes>"
            ],
            "image/png": "[encoded data removed]"
          },
          "metadata": {
            "needs_background": "light"
          }
        }
      ]
    },
    {
      "cell_type": "code",
      "source": [
        "plot_epoch_accuracy_graph(epoch_to_measure_list=epoch_to_loss_list2, title='ConvNeXt fine-tuned model, epoch to loss', measure_name_label='loss')"
      ],
      "metadata": {
        "id": "D03EQzCPQ0gh",
        "colab": {
          "base_uri": "https://localhost:8080/",
          "height": 521
        },
        "outputId": "ef3438ca-996c-45c8-ce2f-f8d1a5c9aeee"
      },
      "execution_count": null,
      "outputs": [
        {
          "output_type": "display_data",
          "data": {
            "text/plain": [
              "<Figure size 720x576 with 1 Axes>"
            ],
            "image/png": "[encoded data removed]"
          },
          "metadata": {
            "needs_background": "light"
          }
        }
      ]
    }
  ],
  "metadata": {
    "accelerator": "GPU",
    "colab": {
      "collapsed_sections": [],
      "name": "ofir-ex3-part2.ipynb",
      "provenance": [],
      "authorship_tag": "ABX9TyOPnmN+ELeQE80WNmTF7gGc",
      "include_colab_link": true
    },
    "kernelspec": {
      "display_name": "Python 3",
      "name": "python3"
    },
    "language_info": {
      "name": "python"
    },
    "gpuClass": "standard",
    "widgets": {
      "application/vnd.jupyter.widget-state+json": {
        "b5008093ec174a2598ad99b259f0eab3": {
          "model_module": "@jupyter-widgets/controls",
          "model_name": "HBoxModel",
          "model_module_version": "1.5.0",
          "state": {
            "_dom_classes": [],
            "_model_module": "@jupyter-widgets/controls",
            "_model_module_version": "1.5.0",
            "_model_name": "HBoxModel",
            "_view_count": null,
            "_view_module": "@jupyter-widgets/controls",
            "_view_module_version": "1.5.0",
            "_view_name": "HBoxView",
            "box_style": "",
            "children": [
              "IPY_MODEL_1d8e3bab35c340a6af2478f1b464f4bd",
              "IPY_MODEL_9b4a6e3c938143c8b37db57fc519a06f",
              "IPY_MODEL_4e3733c69e974b37af4cab1e08105365"
            ],
            "layout": "IPY_MODEL_22d739af7d604d64813f85ffe876f5b9"
          }
        },
        "1d8e3bab35c340a6af2478f1b464f4bd": {
          "model_module": "@jupyter-widgets/controls",
          "model_name": "HTMLModel",
          "model_module_version": "1.5.0",
          "state": {
            "_dom_classes": [],
            "_model_module": "@jupyter-widgets/controls",
            "_model_module_version": "1.5.0",
            "_model_name": "HTMLModel",
            "_view_count": null,
            "_view_module": "@jupyter-widgets/controls",
            "_view_module_version": "1.5.0",
            "_view_name": "HTMLView",
            "description": "",
            "description_tooltip": null,
            "layout": "IPY_MODEL_ce5211a7afed4cb688a6a19a344a1c5b",
            "placeholder": "​",
            "style": "IPY_MODEL_abb136cb61b0460696bd18c55d125b9a",
            "value": "100%"
          }
        },
        "9b4a6e3c938143c8b37db57fc519a06f": {
          "model_module": "@jupyter-widgets/controls",
          "model_name": "FloatProgressModel",
          "model_module_version": "1.5.0",
          "state": {
            "_dom_classes": [],
            "_model_module": "@jupyter-widgets/controls",
            "_model_module_version": "1.5.0",
            "_model_name": "FloatProgressModel",
            "_view_count": null,
            "_view_module": "@jupyter-widgets/controls",
            "_view_module_version": "1.5.0",
            "_view_name": "ProgressView",
            "bar_style": "success",
            "description": "",
            "description_tooltip": null,
            "layout": "IPY_MODEL_cfe38b34bc7f4b858823a628ad7bbcf3",
            "max": 241627721,
            "min": 0,
            "orientation": "horizontal",
            "style": "IPY_MODEL_f79b27eb041f4159b2572cd713b4fbce",
            "value": 241627721
          }
        },
        "4e3733c69e974b37af4cab1e08105365": {
          "model_module": "@jupyter-widgets/controls",
          "model_name": "HTMLModel",
          "model_module_version": "1.5.0",
          "state": {
            "_dom_classes": [],
            "_model_module": "@jupyter-widgets/controls",
            "_model_module_version": "1.5.0",
            "_model_name": "HTMLModel",
            "_view_count": null,
            "_view_module": "@jupyter-widgets/controls",
            "_view_module_version": "1.5.0",
            "_view_name": "HTMLView",
            "description": "",
            "description_tooltip": null,
            "layout": "IPY_MODEL_cc0af30ef9f34f798edfc347e24d5771",
            "placeholder": "​",
            "style": "IPY_MODEL_3247aff7edaa490683cef2c4cf19ee69",
            "value": " 230M/230M [00:04&lt;00:00, 60.6MB/s]"
          }
        },
        "22d739af7d604d64813f85ffe876f5b9": {
          "model_module": "@jupyter-widgets/base",
          "model_name": "LayoutModel",
          "model_module_version": "1.2.0",
          "state": {
            "_model_module": "@jupyter-widgets/base",
            "_model_module_version": "1.2.0",
            "_model_name": "LayoutModel",
            "_view_count": null,
            "_view_module": "@jupyter-widgets/base",
            "_view_module_version": "1.2.0",
            "_view_name": "LayoutView",
            "align_content": null,
            "align_items": null,
            "align_self": null,
            "border": null,
            "bottom": null,
            "display": null,
            "flex": null,
            "flex_flow": null,
            "grid_area": null,
            "grid_auto_columns": null,
            "grid_auto_flow": null,
            "grid_auto_rows": null,
            "grid_column": null,
            "grid_gap": null,
            "grid_row": null,
            "grid_template_areas": null,
            "grid_template_columns": null,
            "grid_template_rows": null,
            "height": null,
            "justify_content": null,
            "justify_items": null,
            "left": null,
            "margin": null,
            "max_height": null,
            "max_width": null,
            "min_height": null,
            "min_width": null,
            "object_fit": null,
            "object_position": null,
            "order": null,
            "overflow": null,
            "overflow_x": null,
            "overflow_y": null,
            "padding": null,
            "right": null,
            "top": null,
            "visibility": null,
            "width": null
          }
        },
        "ce5211a7afed4cb688a6a19a344a1c5b": {
          "model_module": "@jupyter-widgets/base",
          "model_name": "LayoutModel",
          "model_module_version": "1.2.0",
          "state": {
            "_model_module": "@jupyter-widgets/base",
            "_model_module_version": "1.2.0",
            "_model_name": "LayoutModel",
            "_view_count": null,
            "_view_module": "@jupyter-widgets/base",
            "_view_module_version": "1.2.0",
            "_view_name": "LayoutView",
            "align_content": null,
            "align_items": null,
            "align_self": null,
            "border": null,
            "bottom": null,
            "display": null,
            "flex": null,
            "flex_flow": null,
            "grid_area": null,
            "grid_auto_columns": null,
            "grid_auto_flow": null,
            "grid_auto_rows": null,
            "grid_column": null,
            "grid_gap": null,
            "grid_row": null,
            "grid_template_areas": null,
            "grid_template_columns": null,
            "grid_template_rows": null,
            "height": null,
            "justify_content": null,
            "justify_items": null,
            "left": null,
            "margin": null,
            "max_height": null,
            "max_width": null,
            "min_height": null,
            "min_width": null,
            "object_fit": null,
            "object_position": null,
            "order": null,
            "overflow": null,
            "overflow_x": null,
            "overflow_y": null,
            "padding": null,
            "right": null,
            "top": null,
            "visibility": null,
            "width": null
          }
        },
        "abb136cb61b0460696bd18c55d125b9a": {
          "model_module": "@jupyter-widgets/controls",
          "model_name": "DescriptionStyleModel",
          "model_module_version": "1.5.0",
          "state": {
            "_model_module": "@jupyter-widgets/controls",
            "_model_module_version": "1.5.0",
            "_model_name": "DescriptionStyleModel",
            "_view_count": null,
            "_view_module": "@jupyter-widgets/base",
            "_view_module_version": "1.2.0",
            "_view_name": "StyleView",
            "description_width": ""
          }
        },
        "cfe38b34bc7f4b858823a628ad7bbcf3": {
          "model_module": "@jupyter-widgets/base",
          "model_name": "LayoutModel",
          "model_module_version": "1.2.0",
          "state": {
            "_model_module": "@jupyter-widgets/base",
            "_model_module_version": "1.2.0",
            "_model_name": "LayoutModel",
            "_view_count": null,
            "_view_module": "@jupyter-widgets/base",
            "_view_module_version": "1.2.0",
            "_view_name": "LayoutView",
            "align_content": null,
            "align_items": null,
            "align_self": null,
            "border": null,
            "bottom": null,
            "display": null,
            "flex": null,
            "flex_flow": null,
            "grid_area": null,
            "grid_auto_columns": null,
            "grid_auto_flow": null,
            "grid_auto_rows": null,
            "grid_column": null,
            "grid_gap": null,
            "grid_row": null,
            "grid_template_areas": null,
            "grid_template_columns": null,
            "grid_template_rows": null,
            "height": null,
            "justify_content": null,
            "justify_items": null,
            "left": null,
            "margin": null,
            "max_height": null,
            "max_width": null,
            "min_height": null,
            "min_width": null,
            "object_fit": null,
            "object_position": null,
            "order": null,
            "overflow": null,
            "overflow_x": null,
            "overflow_y": null,
            "padding": null,
            "right": null,
            "top": null,
            "visibility": null,
            "width": null
          }
        },
        "f79b27eb041f4159b2572cd713b4fbce": {
          "model_module": "@jupyter-widgets/controls",
          "model_name": "ProgressStyleModel",
          "model_module_version": "1.5.0",
          "state": {
            "_model_module": "@jupyter-widgets/controls",
            "_model_module_version": "1.5.0",
            "_model_name": "ProgressStyleModel",
            "_view_count": null,
            "_view_module": "@jupyter-widgets/base",
            "_view_module_version": "1.2.0",
            "_view_name": "StyleView",
            "bar_color": null,
            "description_width": ""
          }
        },
        "cc0af30ef9f34f798edfc347e24d5771": {
          "model_module": "@jupyter-widgets/base",
          "model_name": "LayoutModel",
          "model_module_version": "1.2.0",
          "state": {
            "_model_module": "@jupyter-widgets/base",
            "_model_module_version": "1.2.0",
            "_model_name": "LayoutModel",
            "_view_count": null,
            "_view_module": "@jupyter-widgets/base",
            "_view_module_version": "1.2.0",
            "_view_name": "LayoutView",
            "align_content": null,
            "align_items": null,
            "align_self": null,
            "border": null,
            "bottom": null,
            "display": null,
            "flex": null,
            "flex_flow": null,
            "grid_area": null,
            "grid_auto_columns": null,
            "grid_auto_flow": null,
            "grid_auto_rows": null,
            "grid_column": null,
            "grid_gap": null,
            "grid_row": null,
            "grid_template_areas": null,
            "grid_template_columns": null,
            "grid_template_rows": null,
            "height": null,
            "justify_content": null,
            "justify_items": null,
            "left": null,
            "margin": null,
            "max_height": null,
            "max_width": null,
            "min_height": null,
            "min_width": null,
            "object_fit": null,
            "object_position": null,
            "order": null,
            "overflow": null,
            "overflow_x": null,
            "overflow_y": null,
            "padding": null,
            "right": null,
            "top": null,
            "visibility": null,
            "width": null
          }
        },
        "3247aff7edaa490683cef2c4cf19ee69": {
          "model_module": "@jupyter-widgets/controls",
          "model_name": "DescriptionStyleModel",
          "model_module_version": "1.5.0",
          "state": {
            "_model_module": "@jupyter-widgets/controls",
            "_model_module_version": "1.5.0",
            "_model_name": "DescriptionStyleModel",
            "_view_count": null,
            "_view_module": "@jupyter-widgets/base",
            "_view_module_version": "1.2.0",
            "_view_name": "StyleView",
            "description_width": ""
          }
        },
        "c69d6cb10f814e5fa3806a65635ba723": {
          "model_module": "@jupyter-widgets/controls",
          "model_name": "HBoxModel",
          "model_module_version": "1.5.0",
          "state": {
            "_dom_classes": [],
            "_model_module": "@jupyter-widgets/controls",
            "_model_module_version": "1.5.0",
            "_model_name": "HBoxModel",
            "_view_count": null,
            "_view_module": "@jupyter-widgets/controls",
            "_view_module_version": "1.5.0",
            "_view_name": "HBoxView",
            "box_style": "",
            "children": [
              "IPY_MODEL_767defda3b304122a510f6405e92311d",
              "IPY_MODEL_4f8cf4360d7b4806ba8f43686dae0ddf",
              "IPY_MODEL_8fb394d6aaf9407fab3c8a5777bcd782"
            ],
            "layout": "IPY_MODEL_4edb7d51d48a4826834af9cd26af5af0"
          }
        },
        "767defda3b304122a510f6405e92311d": {
          "model_module": "@jupyter-widgets/controls",
          "model_name": "HTMLModel",
          "model_module_version": "1.5.0",
          "state": {
            "_dom_classes": [],
            "_model_module": "@jupyter-widgets/controls",
            "_model_module_version": "1.5.0",
            "_model_name": "HTMLModel",
            "_view_count": null,
            "_view_module": "@jupyter-widgets/controls",
            "_view_module_version": "1.5.0",
            "_view_name": "HTMLView",
            "description": "",
            "description_tooltip": null,
            "layout": "IPY_MODEL_f632b9a4e9124d46b804629ccf1163e1",
            "placeholder": "​",
            "style": "IPY_MODEL_9ea23d96a8a9493d8d2814f460397292",
            "value": "100%"
          }
        },
        "4f8cf4360d7b4806ba8f43686dae0ddf": {
          "model_module": "@jupyter-widgets/controls",
          "model_name": "FloatProgressModel",
          "model_module_version": "1.5.0",
          "state": {
            "_dom_classes": [],
            "_model_module": "@jupyter-widgets/controls",
            "_model_module_version": "1.5.0",
            "_model_name": "FloatProgressModel",
            "_view_count": null,
            "_view_module": "@jupyter-widgets/controls",
            "_view_module_version": "1.5.0",
            "_view_name": "ProgressView",
            "bar_style": "success",
            "description": "",
            "description_tooltip": null,
            "layout": "IPY_MODEL_154f3889cc694300a659d7406310f089",
            "max": 791189585,
            "min": 0,
            "orientation": "horizontal",
            "style": "IPY_MODEL_49e3517650e74161aab78d1870fbc08f",
            "value": 791189585
          }
        },
        "8fb394d6aaf9407fab3c8a5777bcd782": {
          "model_module": "@jupyter-widgets/controls",
          "model_name": "HTMLModel",
          "model_module_version": "1.5.0",
          "state": {
            "_dom_classes": [],
            "_model_module": "@jupyter-widgets/controls",
            "_model_module_version": "1.5.0",
            "_model_name": "HTMLModel",
            "_view_count": null,
            "_view_module": "@jupyter-widgets/controls",
            "_view_module_version": "1.5.0",
            "_view_name": "HTMLView",
            "description": "",
            "description_tooltip": null,
            "layout": "IPY_MODEL_57c048ddb4144d8999ae3166b664f7bf",
            "placeholder": "​",
            "style": "IPY_MODEL_eea92adf89d24d5aae1ee00bc64ec280",
            "value": " 755M/755M [00:05&lt;00:00, 176MB/s]"
          }
        },
        "4edb7d51d48a4826834af9cd26af5af0": {
          "model_module": "@jupyter-widgets/base",
          "model_name": "LayoutModel",
          "model_module_version": "1.2.0",
          "state": {
            "_model_module": "@jupyter-widgets/base",
            "_model_module_version": "1.2.0",
            "_model_name": "LayoutModel",
            "_view_count": null,
            "_view_module": "@jupyter-widgets/base",
            "_view_module_version": "1.2.0",
            "_view_name": "LayoutView",
            "align_content": null,
            "align_items": null,
            "align_self": null,
            "border": null,
            "bottom": null,
            "display": null,
            "flex": null,
            "flex_flow": null,
            "grid_area": null,
            "grid_auto_columns": null,
            "grid_auto_flow": null,
            "grid_auto_rows": null,
            "grid_column": null,
            "grid_gap": null,
            "grid_row": null,
            "grid_template_areas": null,
            "grid_template_columns": null,
            "grid_template_rows": null,
            "height": null,
            "justify_content": null,
            "justify_items": null,
            "left": null,
            "margin": null,
            "max_height": null,
            "max_width": null,
            "min_height": null,
            "min_width": null,
            "object_fit": null,
            "object_position": null,
            "order": null,
            "overflow": null,
            "overflow_x": null,
            "overflow_y": null,
            "padding": null,
            "right": null,
            "top": null,
            "visibility": null,
            "width": null
          }
        },
        "f632b9a4e9124d46b804629ccf1163e1": {
          "model_module": "@jupyter-widgets/base",
          "model_name": "LayoutModel",
          "model_module_version": "1.2.0",
          "state": {
            "_model_module": "@jupyter-widgets/base",
            "_model_module_version": "1.2.0",
            "_model_name": "LayoutModel",
            "_view_count": null,
            "_view_module": "@jupyter-widgets/base",
            "_view_module_version": "1.2.0",
            "_view_name": "LayoutView",
            "align_content": null,
            "align_items": null,
            "align_self": null,
            "border": null,
            "bottom": null,
            "display": null,
            "flex": null,
            "flex_flow": null,
            "grid_area": null,
            "grid_auto_columns": null,
            "grid_auto_flow": null,
            "grid_auto_rows": null,
            "grid_column": null,
            "grid_gap": null,
            "grid_row": null,
            "grid_template_areas": null,
            "grid_template_columns": null,
            "grid_template_rows": null,
            "height": null,
            "justify_content": null,
            "justify_items": null,
            "left": null,
            "margin": null,
            "max_height": null,
            "max_width": null,
            "min_height": null,
            "min_width": null,
            "object_fit": null,
            "object_position": null,
            "order": null,
            "overflow": null,
            "overflow_x": null,
            "overflow_y": null,
            "padding": null,
            "right": null,
            "top": null,
            "visibility": null,
            "width": null
          }
        },
        "9ea23d96a8a9493d8d2814f460397292": {
          "model_module": "@jupyter-widgets/controls",
          "model_name": "DescriptionStyleModel",
          "model_module_version": "1.5.0",
          "state": {
            "_model_module": "@jupyter-widgets/controls",
            "_model_module_version": "1.5.0",
            "_model_name": "DescriptionStyleModel",
            "_view_count": null,
            "_view_module": "@jupyter-widgets/base",
            "_view_module_version": "1.2.0",
            "_view_name": "StyleView",
            "description_width": ""
          }
        },
        "154f3889cc694300a659d7406310f089": {
          "model_module": "@jupyter-widgets/base",
          "model_name": "LayoutModel",
          "model_module_version": "1.2.0",
          "state": {
            "_model_module": "@jupyter-widgets/base",
            "_model_module_version": "1.2.0",
            "_model_name": "LayoutModel",
            "_view_count": null,
            "_view_module": "@jupyter-widgets/base",
            "_view_module_version": "1.2.0",
            "_view_name": "LayoutView",
            "align_content": null,
            "align_items": null,
            "align_self": null,
            "border": null,
            "bottom": null,
            "display": null,
            "flex": null,
            "flex_flow": null,
            "grid_area": null,
            "grid_auto_columns": null,
            "grid_auto_flow": null,
            "grid_auto_rows": null,
            "grid_column": null,
            "grid_gap": null,
            "grid_row": null,
            "grid_template_areas": null,
            "grid_template_columns": null,
            "grid_template_rows": null,
            "height": null,
            "justify_content": null,
            "justify_items": null,
            "left": null,
            "margin": null,
            "max_height": null,
            "max_width": null,
            "min_height": null,
            "min_width": null,
            "object_fit": null,
            "object_position": null,
            "order": null,
            "overflow": null,
            "overflow_x": null,
            "overflow_y": null,
            "padding": null,
            "right": null,
            "top": null,
            "visibility": null,
            "width": null
          }
        },
        "49e3517650e74161aab78d1870fbc08f": {
          "model_module": "@jupyter-widgets/controls",
          "model_name": "ProgressStyleModel",
          "model_module_version": "1.5.0",
          "state": {
            "_model_module": "@jupyter-widgets/controls",
            "_model_module_version": "1.5.0",
            "_model_name": "ProgressStyleModel",
            "_view_count": null,
            "_view_module": "@jupyter-widgets/base",
            "_view_module_version": "1.2.0",
            "_view_name": "StyleView",
            "bar_color": null,
            "description_width": ""
          }
        },
        "57c048ddb4144d8999ae3166b664f7bf": {
          "model_module": "@jupyter-widgets/base",
          "model_name": "LayoutModel",
          "model_module_version": "1.2.0",
          "state": {
            "_model_module": "@jupyter-widgets/base",
            "_model_module_version": "1.2.0",
            "_model_name": "LayoutModel",
            "_view_count": null,
            "_view_module": "@jupyter-widgets/base",
            "_view_module_version": "1.2.0",
            "_view_name": "LayoutView",
            "align_content": null,
            "align_items": null,
            "align_self": null,
            "border": null,
            "bottom": null,
            "display": null,
            "flex": null,
            "flex_flow": null,
            "grid_area": null,
            "grid_auto_columns": null,
            "grid_auto_flow": null,
            "grid_auto_rows": null,
            "grid_column": null,
            "grid_gap": null,
            "grid_row": null,
            "grid_template_areas": null,
            "grid_template_columns": null,
            "grid_template_rows": null,
            "height": null,
            "justify_content": null,
            "justify_items": null,
            "left": null,
            "margin": null,
            "max_height": null,
            "max_width": null,
            "min_height": null,
            "min_width": null,
            "object_fit": null,
            "object_position": null,
            "order": null,
            "overflow": null,
            "overflow_x": null,
            "overflow_y": null,
            "padding": null,
            "right": null,
            "top": null,
            "visibility": null,
            "width": null
          }
        },
        "eea92adf89d24d5aae1ee00bc64ec280": {
          "model_module": "@jupyter-widgets/controls",
          "model_name": "DescriptionStyleModel",
          "model_module_version": "1.5.0",
          "state": {
            "_model_module": "@jupyter-widgets/controls",
            "_model_module_version": "1.5.0",
            "_model_name": "DescriptionStyleModel",
            "_view_count": null,
            "_view_module": "@jupyter-widgets/base",
            "_view_module_version": "1.2.0",
            "_view_name": "StyleView",
            "description_width": ""
          }
        }
      }
    }
  },
  "nbformat": 4,
  "nbformat_minor": 0
}